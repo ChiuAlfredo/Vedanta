{
 "cells": [
  {
   "cell_type": "code",
   "execution_count": null,
   "id": "61b14c44",
   "metadata": {},
   "outputs": [
    {
     "name": "stdout",
     "output_type": "stream",
     "text": [
      "✅ 已啟用 Testnet 模式\n",
      "✅ ETH/USDT 最小下單量為 0.0001\n",
      "[2025-07-26 13:28:30] Close: 3748.98, Signal: -1\n",
      "🔴 死亡交叉 → 市價賣出 0.133400 ETH\n",
      "ETH 餘額：0.0\n",
      "USDT 餘額：131169.7436677\n",
      "[2025-07-26 13:29:30] Close: 3749.83, Signal: 1\n",
      "🟢 黃金交叉 → 市價買入 0.133339 ETH/USDT\n",
      "ETH 餘額：0.1333\n",
      "USDT 餘額：130670.6498057\n",
      "[2025-07-26 13:30:31] Close: 3747.65, Signal: -1\n",
      "🔴 死亡交叉 → 市價賣出 0.133300 ETH\n",
      "ETH 餘額：0.0\n",
      "USDT 餘額：131169.8504037\n",
      "[2025-07-26 13:31:31] Close: 3748.91, Signal: 1\n",
      "🟢 黃金交叉 → 市價買入 0.133372 ETH/USDT\n",
      "ETH 餘額：0.1333\n",
      "USDT 餘額：130670.5312647\n",
      "[2025-07-26 13:32:32] Close: 3747.51, Signal: -1\n",
      "🔴 死亡交叉 → 市價賣出 0.133300 ETH\n",
      "ETH 餘額：0.0\n",
      "USDT 餘額：131169.7397647\n",
      "[2025-07-26 13:33:32] Close: 3748.50, Signal: 1\n",
      "🟢 黃金交叉 → 市價買入 0.133387 ETH/USDT\n",
      "ETH 餘額：0.1333\n",
      "USDT 餘額：130670.6965567\n",
      "[2025-07-26 13:34:33] Close: 3748.01, Signal: -1\n",
      "🔴 死亡交叉 → 市價賣出 0.133300 ETH\n",
      "ETH 餘額：0.0\n",
      "USDT 餘額：131169.8903937\n",
      "[2025-07-26 13:35:33] Close: 3750.49, Signal: 1\n",
      "🟢 黃金交叉 → 市價買入 0.133316 ETH/USDT\n",
      "ETH 餘額：0.1333\n",
      "USDT 餘額：130671.0191427\n",
      "[2025-07-26 13:36:34] Close: 3751.00, Signal: 0\n",
      "⏸ 無操作\n",
      "ETH 餘額：0.1333\n",
      "USDT 餘額：130671.0191427\n",
      "[2025-07-26 13:37:34] Close: 3752.09, Signal: 0\n",
      "⏸ 無操作\n",
      "ETH 餘額：0.1333\n",
      "USDT 餘額：130671.0191427\n",
      "[2025-07-26 13:38:34] Close: 3753.03, Signal: 0\n",
      "⏸ 無操作\n",
      "ETH 餘額：0.1333\n",
      "USDT 餘額：130671.0191427\n",
      "[2025-07-26 13:39:34] Close: 3753.05, Signal: 0\n",
      "⏸ 無操作\n",
      "ETH 餘額：0.1333\n",
      "USDT 餘額：130671.0191427\n"
     ]
    }
   ],
   "source": [
    "from online.auto_trade import auto_trade\n",
    "from Technicalindicatorstrategy import testsma\n",
    "auto_trade(symbol=\"ETH/USDT\", \n",
    "           interval=\"1m\", \n",
    "           usdt_per_order=500, \n",
    "           strategy=testsma)"
   ]
  },
  {
   "cell_type": "code",
   "execution_count": null,
   "id": "d6a2b949",
   "metadata": {},
   "outputs": [],
   "source": []
  }
 ],
 "metadata": {
  "kernelspec": {
   "display_name": "luckyseven",
   "language": "python",
   "name": "python3"
  },
  "language_info": {
   "codemirror_mode": {
    "name": "ipython",
    "version": 3
   },
   "file_extension": ".py",
   "mimetype": "text/x-python",
   "name": "python",
   "nbconvert_exporter": "python",
   "pygments_lexer": "ipython3",
   "version": "3.10.18"
  }
 },
 "nbformat": 4,
 "nbformat_minor": 5
}
