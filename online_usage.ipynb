{
 "cells": [
  {
   "cell_type": "code",
   "execution_count": 5,
   "id": "61b14c44",
   "metadata": {},
   "outputs": [
    {
     "name": "stdout",
     "output_type": "stream",
     "text": [
      "✅ 已啟用 Testnet 模式\n",
      "✅ ETH/USDT 最小下單量為 0.0001\n",
      "[2025-07-26 17:16:25] Close: 3760.68, Signal: 0\n",
      "⏸ 無操作\n",
      "ETH 餘額：0.1333\n",
      "USDT 餘額：130670.8378547\n"
     ]
    }
   ],
   "source": [
    "from online.auto_trade import auto_trade\n",
    "from Technicalindicatorstrategy import testsma\n",
    "auto_trade(symbol=\"ETH/USDT\", \n",
    "           interval=\"1m\", \n",
    "           usdt_per_order=500, \n",
    "           strategy=testsma)"
   ]
  },
  {
   "cell_type": "code",
   "execution_count": null,
   "id": "9663011f",
   "metadata": {},
   "outputs": [
    {
     "name": "stdout",
     "output_type": "stream",
     "text": [
      "🛠️ 連線設定完成，使用 🧪 測試網路 模式\n",
      "⚙️ 槓桿已設定為 5x\n",
      "📐 交易精度: 最小數量 0.0001, 單位步長 0.0001\n",
      "\n",
      "🔔 【策略執行】時間: 2025-08-30 12:12:43 UTC\n",
      "🧠 使用策略: module，交易標的: ETH/USDT\n",
      "📈 最新收盤價: 4385.78, 訊號: 1\n",
      "📊 持倉偵測: 1.211 張，方向: long，入場價: 4390.999909166\n",
      "💰 可用餘額: 9554.03 USDT\n",
      "💼 持倉狀況: 1.211000 (long)，入場價: 4390.999909166，入場時間: 2025-08-30 12:08:27 UTC\n",
      "🔢 數量經過精度對齊: 原始 1.0892058756572378 → 對齊後 1.0892\n",
      "❌ 執行錯誤: Invalid comparison between dtype=datetime64[ns] and datetime\n",
      "⏳ 等待下一次執行（60秒）...\n",
      "\n"
     ]
    }
   ],
   "source": [
    "from online.auto_trade_future_dev import auto_trade_futures\n",
    "from Technicalindicatorstrategy import testsma\n",
    "\n",
    "auto_trade_futures(\n",
    "    symbol=\"ETH/USDT\", \n",
    "    interval=\"1m\", \n",
    "    usdt_percent_per_order=0.1,\n",
    "    leverage=5, \n",
    "    strategy=testsma,\n",
    "    run_once=False\n",
    ")\n",
    "🛠️ 連線設定完成，使用 🧪 測試網路 模式\n",
    "⚙️ 槓桿已設定為 5x\n",
    "📐 交易精度: 最小數量 0.0001, 單位步長 0.0001\n",
    "\n",
    "🔔 【策略執行】時間: 2025-08-30 12:12:43 UTC\n",
    "🧠 使用策略: module，交易標的: ETH/USDT\n",
    "📈 最新收盤價: 4385.78, 訊號: 1\n",
    "📊 持倉偵測: 1.211 張，方向: long，入場價: 4390.999909166\n",
    "💰 可用餘額: 9554.03 USDT\n",
    "💼 持倉狀況: 1.211000 (long)，入場價: 4390.999909166，入場時間: 2025-08-30 12:08:27 UTC\n",
    "🔢 數量經過精度對齊: 原始 1.0892058756572378 → 對齊後 1.0892\n",
    "❌ 執行錯誤: Invalid comparison between dtype=datetime64[ns] and datetime\n",
    "⏳ 等待下一次執行（60秒）..."
   ]
  }
 ],
 "metadata": {
  "kernelspec": {
   "display_name": "Vedanta",
   "language": "python",
   "name": "python3"
  },
  "language_info": {
   "codemirror_mode": {
    "name": "ipython",
    "version": 3
   },
   "file_extension": ".py",
   "mimetype": "text/x-python",
   "name": "python",
   "nbconvert_exporter": "python",
   "pygments_lexer": "ipython3",
   "version": "3.10.18"
  }
 },
 "nbformat": 4,
 "nbformat_minor": 5
}
