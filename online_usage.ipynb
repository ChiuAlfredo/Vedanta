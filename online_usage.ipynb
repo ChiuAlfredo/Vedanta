{
 "cells": [
  {
   "cell_type": "code",
   "execution_count": null,
   "id": "61b14c44",
   "metadata": {},
   "outputs": [
    {
     "name": "stdout",
     "output_type": "stream",
     "text": [
      "✅ 已啟用 Testnet 模式\n",
      "✅ ETH/USDT 最小下單量為 0.0001\n",
      "[2025-07-26 13:57:23] Close: 3749.28, Signal: 1\n",
      "🟢 黃金交叉 → 市價買入 0.133359 ETH/USDT\n",
      "ETH 餘額：0.2666\n",
      "USDT 餘額：130171.9279467\n",
      "[2025-07-26 13:58:24] Close: 3748.73, Signal: -1\n",
      "🔴 死亡交叉 → 市價賣出 0.266600 ETH\n",
      "ETH 餘額：0.0\n",
      "USDT 餘額：131169.8117467\n",
      "[2025-07-26 13:59:24] Close: 3748.02, Signal: 0\n",
      "⏸ 無操作\n",
      "ETH 餘額：0.0\n",
      "USDT 餘額：131169.8117467\n",
      "[2025-07-26 14:00:25] Close: 3749.64, Signal: 1\n",
      "🟢 黃金交叉 → 市價買入 0.133346 ETH/USDT\n",
      "ETH 餘額：0.1333\n",
      "USDT 餘額：130670.8378547\n"
     ]
    }
   ],
   "source": [
    "from online.auto_trade import auto_trade\n",
    "from Technicalindicatorstrategy import testsma\n",
    "auto_trade(symbol=\"ETH/USDT\", \n",
    "           interval=\"1m\", \n",
    "           usdt_per_order=500, \n",
    "           strategy=testsma)"
   ]
  }
 ],
 "metadata": {
  "kernelspec": {
   "display_name": "luckyseven",
   "language": "python",
   "name": "python3"
  },
  "language_info": {
   "codemirror_mode": {
    "name": "ipython",
    "version": 3
   },
   "file_extension": ".py",
   "mimetype": "text/x-python",
   "name": "python",
   "nbconvert_exporter": "python",
   "pygments_lexer": "ipython3",
   "version": "3.10.18"
  }
 },
 "nbformat": 4,
 "nbformat_minor": 5
}
