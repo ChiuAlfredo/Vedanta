{
 "cells": [
  {
   "cell_type": "code",
   "execution_count": null,
   "id": "61b14c44",
   "metadata": {},
   "outputs": [
    {
     "name": "stdout",
     "output_type": "stream",
     "text": [
      "✅ 已啟用 Testnet 模式\n",
      "✅ ETH/USDT 最小下單量為 0.0001\n",
      "[2025-07-26 12:38:55] Close: 3748.86, Signal: 1\n",
      "🟢 黃金交叉 → 市價買入 0.133374 ETH/USDT\n",
      "ETH 餘額：0.2668\n",
      "USDT 餘額：130172.8171857\n",
      "[2025-07-26 12:39:55] Close: 3748.91, Signal: 0\n",
      "⏸ 無操作\n",
      "ETH 餘額：0.2668\n",
      "USDT 餘額：130172.8171857\n",
      "[2025-07-26 12:40:55] Close: 3746.69, Signal: -1\n",
      "🔴 死亡交叉 → 市價賣出 0.266800 ETH\n",
      "ETH 餘額：0.0\n",
      "USDT 餘額：131170.8466177\n",
      "[2025-07-26 12:41:56] Close: 3747.50, Signal: 1\n",
      "🟢 黃金交叉 → 市價買入 0.133422 ETH/USDT\n",
      "ETH 餘額：0.1334\n",
      "USDT 餘額：130671.7158437\n",
      "[2025-07-26 12:42:56] Close: 3749.24, Signal: 0\n",
      "⏸ 無操作\n",
      "ETH 餘額：0.1334\n",
      "USDT 餘額：130671.7158437\n"
     ]
    }
   ],
   "source": [
    "from online.auto_trade import auto_trade\n",
    "from Technicalindicatorstrategy import testsma\n",
    "auto_trade(symbol=\"ETH/USDT\", \n",
    "           interval=\"1m\", \n",
    "           usdt_per_order=500, \n",
    "           strategy=testsma)"
   ]
  },
  {
   "cell_type": "code",
   "execution_count": null,
   "id": "d6a2b949",
   "metadata": {},
   "outputs": [],
   "source": []
  }
 ],
 "metadata": {
  "kernelspec": {
   "display_name": "luckyseven",
   "language": "python",
   "name": "python3"
  },
  "language_info": {
   "codemirror_mode": {
    "name": "ipython",
    "version": 3
   },
   "file_extension": ".py",
   "mimetype": "text/x-python",
   "name": "python",
   "nbconvert_exporter": "python",
   "pygments_lexer": "ipython3",
   "version": "3.10.18"
  }
 },
 "nbformat": 4,
 "nbformat_minor": 5
}
