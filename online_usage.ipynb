{
 "cells": [
  {
   "cell_type": "code",
   "execution_count": 5,
   "id": "61b14c44",
   "metadata": {},
   "outputs": [
    {
     "name": "stdout",
     "output_type": "stream",
     "text": [
      "✅ 已啟用 Testnet 模式\n",
      "✅ ETH/USDT 最小下單量為 0.0001\n",
      "[2025-07-26 17:16:25] Close: 3760.68, Signal: 0\n",
      "⏸ 無操作\n",
      "ETH 餘額：0.1333\n",
      "USDT 餘額：130670.8378547\n"
     ]
    }
   ],
   "source": [
    "from online.auto_trade import auto_trade\n",
    "from Technicalindicatorstrategy import testsma\n",
    "auto_trade(symbol=\"ETH/USDT\", \n",
    "           interval=\"1m\", \n",
    "           usdt_per_order=500, \n",
    "           strategy=testsma)"
   ]
  },
  {
   "cell_type": "code",
   "execution_count": 6,
   "id": "9663011f",
   "metadata": {},
   "outputs": [
    {
     "name": "stdout",
     "output_type": "stream",
     "text": [
      "✅ 使用 Testnet 模式\n",
      "✅ 槓桿設為 5x\n",
      "✅ 最小下單量: 0.0001, 數量精度: 0.0001\n",
      "[2025-07-26 17:16:26] Close: 3760.68, Signal: 0\n",
      "目前持倉: 0.133000 (long), USDT 餘額: 14883.94\n",
      "⏸ 訊號未變或已有倉位，無操作\n"
     ]
    }
   ],
   "source": [
    "from online.auto_trade_future import auto_trade_futures\n",
    "from Technicalindicatorstrategy import testsma\n",
    "\n",
    "auto_trade_futures(\n",
    "    symbol=\"ETH/USDT\", \n",
    "    interval=\"1m\", \n",
    "    usdt_per_order=500, \n",
    "    leverage=5, \n",
    "    strategy=testsma\n",
    ")"
   ]
  },
  {
   "cell_type": "code",
   "execution_count": null,
   "id": "893d531e",
   "metadata": {},
   "outputs": [],
   "source": []
  }
 ],
 "metadata": {
  "kernelspec": {
   "display_name": "luckyseven",
   "language": "python",
   "name": "python3"
  },
  "language_info": {
   "codemirror_mode": {
    "name": "ipython",
    "version": 3
   },
   "file_extension": ".py",
   "mimetype": "text/x-python",
   "name": "python",
   "nbconvert_exporter": "python",
   "pygments_lexer": "ipython3",
   "version": "3.10.18"
  }
 },
 "nbformat": 4,
 "nbformat_minor": 5
}
