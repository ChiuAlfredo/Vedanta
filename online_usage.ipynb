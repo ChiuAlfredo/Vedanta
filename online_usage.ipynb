{
 "cells": [
  {
   "cell_type": "code",
   "execution_count": null,
   "id": "61b14c44",
   "metadata": {},
   "outputs": [
    {
     "name": "stdout",
     "output_type": "stream",
     "text": [
      "✅ 已啟用 Testnet 模式\n",
      "✅ ETH/USDT 最小下單量為 0.0001\n",
      "[2025-07-26 13:09:10] Close: 3736.33, Signal: 1\n",
      "🟢 黃金交叉 → 市價買入 0.133821 ETH/USDT\n",
      "ETH 餘額：0.1338\n",
      "USDT 餘額：130669.3699417\n",
      "[2025-07-26 13:10:11] Close: 3736.70, Signal: 0\n",
      "⏸ 無操作\n",
      "ETH 餘額：0.1338\n",
      "USDT 餘額：130669.3699417\n",
      "[2025-07-26 13:11:11] Close: 3736.70, Signal: 0\n",
      "⏸ 無操作\n",
      "ETH 餘額：0.1338\n",
      "USDT 餘額：130669.3699417\n"
     ]
    }
   ],
   "source": [
    "from online.auto_trade import auto_trade\n",
    "from Technicalindicatorstrategy import testsma\n",
    "auto_trade(symbol=\"ETH/USDT\", \n",
    "           interval=\"1m\", \n",
    "           usdt_per_order=500, \n",
    "           strategy=testsma)"
   ]
  },
  {
   "cell_type": "code",
   "execution_count": null,
   "id": "d6a2b949",
   "metadata": {},
   "outputs": [],
   "source": []
  }
 ],
 "metadata": {
  "kernelspec": {
   "display_name": "luckyseven",
   "language": "python",
   "name": "python3"
  },
  "language_info": {
   "codemirror_mode": {
    "name": "ipython",
    "version": 3
   },
   "file_extension": ".py",
   "mimetype": "text/x-python",
   "name": "python",
   "nbconvert_exporter": "python",
   "pygments_lexer": "ipython3",
   "version": "3.10.18"
  }
 },
 "nbformat": 4,
 "nbformat_minor": 5
}
