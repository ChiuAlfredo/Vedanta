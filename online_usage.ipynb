{
 "cells": [
  {
   "cell_type": "code",
   "execution_count": 1,
   "id": "61b14c44",
   "metadata": {},
   "outputs": [
    {
     "name": "stdout",
     "output_type": "stream",
     "text": [
      "✅ 已啟用 Testnet 模式\n",
      "✅ ETH/USDT 最小下單量為 0.0001\n",
      "[2025-08-29 03:15:05] Close: 4469.49, Signal: 0\n",
      "⏸ 無操作\n",
      "ETH 餘額：1.0\n",
      "USDT 餘額：10000.0\n"
     ]
    }
   ],
   "source": [
    "from online.auto_trade import auto_trade\n",
    "from Technicalindicatorstrategy import testsma\n",
    "auto_trade(symbol=\"ETH/USDT\", \n",
    "           interval=\"1m\", \n",
    "           usdt_per_order=500, \n",
    "           strategy=testsma)"
   ]
  },
  {
   "cell_type": "code",
   "execution_count": 1,
   "id": "9663011f",
   "metadata": {},
   "outputs": [
    {
     "name": "stdout",
     "output_type": "stream",
     "text": [
      "🛠️ 連線設定完成，使用 🧪 測試網路 模式\n",
      "⚙️ 槓桿已設定為 7x\n",
      "📐 交易精度: 最小數量 0.0001, 單位步長 0.0001\n",
      "\n",
      "🔔 【策略執行】時間: 2025-08-29 03:32:07 UTC\n",
      "🧠 使用策略: module，交易標的: ETH/USDT\n",
      "沒設止損 策略也沒有止損\n",
      "📈 最新收盤價: 4438.46, 訊號: 0\n",
      "📭 無持倉\n",
      "💰 可用餘額: 21509.37 USDT\n",
      "💼 持倉狀況: 0.000000 (none)，入場價: None，入場時間: N/A UTC\n",
      "🔢 數量經過精度對齊: 原始 3.3922933817720557 → 對齊後 3.3922000000000003\n"
     ]
    }
   ],
   "source": [
    "from online.auto_trade_future import auto_trade_futures\n",
    "from Technicalindicatorstrategy import TurtleMACDTimeZoneFilter\n",
    "\n",
    "\n",
    "auto_trade_futures(\n",
    "    symbol=\"ETH/USDT\",#幣種\n",
    "    interval=\"2h\",#週期\n",
    "    usdt_percent_per_order=0.1,# 每次使用的資金佔比\n",
    "    leverage=7,#槓桿\n",
    "    strategy=TurtleMACDTimeZoneFilter,# 策略\n",
    "    stop_loss = None,       # 停損閾值，例如0.05代表5%\n",
    "    take_profit = 0.04,     # 停利閾值\n",
    "    max_hold_bars=100000,# 最大持有K棒數\n",
    "    run_once=True #單次執行模式\n",
    ")\n"
   ]
  },
  {
   "cell_type": "code",
   "execution_count": null,
   "id": "893d531e",
   "metadata": {},
   "outputs": [],
   "source": []
  }
 ],
 "metadata": {
  "kernelspec": {
   "display_name": "vedanta (3.10.18)",
   "language": "python",
   "name": "python3"
  },
  "language_info": {
   "codemirror_mode": {
    "name": "ipython",
    "version": 3
   },
   "file_extension": ".py",
   "mimetype": "text/x-python",
   "name": "python",
   "nbconvert_exporter": "python",
   "pygments_lexer": "ipython3",
   "version": "3.10.18"
  }
 },
 "nbformat": 4,
 "nbformat_minor": 5
}
