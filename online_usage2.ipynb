{
 "cells": [
  {
   "cell_type": "code",
   "execution_count": null,
   "id": "e16fea38",
   "metadata": {},
   "outputs": [
    {
     "name": "stdout",
     "output_type": "stream",
     "text": [
      "✅ 使用 Testnet 模式\n",
      "✅ 槓桿設為 5x\n",
      "✅ 最小下單量: 0.0001, 數量精度: 0.0001\n",
      "[2025-07-26 13:57:23] Close: 3749.28, Signal: 1\n",
      "目前持倉: 0.667000 (short), USDT 餘額: 14479.47\n",
      "📈 平空單中...\n",
      "✅ 平空單成功: 0.667\n",
      "✅ 開多單 0.6668\n",
      "✅ 開多單成功: 0.6668\n",
      "[2025-07-26 13:58:28] Close: 3748.73, Signal: -1\n",
      "目前持倉: 0.666000 (long), USDT 餘額: 14486.46\n",
      "📉 平多單中...\n",
      "✅ 平多單成功: 0.666\n",
      "✅ 開空單 0.6669\n",
      "✅ 開空單成功: 0.6669\n",
      "[2025-07-26 13:59:32] Close: 3748.02, Signal: 0\n",
      "目前持倉: 0.666000 (short), USDT 餘額: 14477.48\n",
      "⏸ 訊號未變或已有倉位，無操作\n",
      "[2025-07-26 14:00:34] Close: 3749.64, Signal: 1\n",
      "目前持倉: 0.666000 (short), USDT 餘額: 14476.00\n",
      "📈 平空單中...\n",
      "✅ 平空單成功: 0.666\n",
      "✅ 開多單 0.6667\n",
      "✅ 開多單成功: 0.6667\n"
     ]
    }
   ],
   "source": [
    "from online.auto_trade_future import auto_trade_futures\n",
    "from Technicalindicatorstrategy import testsma\n",
    "\n",
    "auto_trade_futures(\n",
    "    symbol=\"ETH/USDT\", \n",
    "    interval=\"1m\", \n",
    "    usdt_per_order=500, \n",
    "    leverage=5, \n",
    "    strategy=testsma\n",
    ")"
   ]
  }
 ],
 "metadata": {
  "kernelspec": {
   "display_name": "luckyseven",
   "language": "python",
   "name": "python3"
  },
  "language_info": {
   "codemirror_mode": {
    "name": "ipython",
    "version": 3
   },
   "file_extension": ".py",
   "mimetype": "text/x-python",
   "name": "python",
   "nbconvert_exporter": "python",
   "pygments_lexer": "ipython3",
   "version": "3.10.18"
  }
 },
 "nbformat": 4,
 "nbformat_minor": 5
}
